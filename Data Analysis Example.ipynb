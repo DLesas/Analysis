{
 "cells": [
  {
   "cell_type": "markdown",
   "metadata": {},
   "source": [
    "# Intro\n",
    "\n",
    "This will be an example of data analysis on data of data analyst jobs from the website glassdoor.\n",
    "\n",
    "I'm aware I might not be using the most efficient ways of doing things (I specialise more in the deep data science side of things: deep learning, etc), to some advanced programmers this might make their eyes bleed, however I'm using this as an end to end project (without the scraping, I'm saving that for another project) to learn from, if you have any advice I would appreciate it if you shared it with me wherever that's via issues on the github page or a comments section. Thanks!\n",
    "\n",
    "This will be seperated into chapters where various transformations and various other methods will be applied/used;\n",
    "\n",
    "**[Insights](#Insights)** = Insights gathered after all the transformations in the chapters below. If you are curious how all these were generated then read the later chapters to see the **Python code** used.\n",
    "\n",
    "**[Chapter 1](#Chapter-1)** = Simple transformations of string data into appropriate integer data. \n",
    "\n",
    "**[Chapter 2](#Chapter-2)** = Some form of **Regex (Regular Expressions)** done in my own way (not familar with the Regex module yet). \n"
   ]
  },
  {
   "cell_type": "markdown",
   "metadata": {},
   "source": [
    "-------------------------------------------------------------------------------------------------------------------------------"
   ]
  },
  {
   "cell_type": "markdown",
   "metadata": {},
   "source": [
    "# Insights\n",
    "<a id='Insights'></a>"
   ]
  },
  {
   "cell_type": "markdown",
   "metadata": {},
   "source": [
    "-------------------------------------------------------------------------------------------------------------------------------"
   ]
  },
  {
   "cell_type": "markdown",
   "metadata": {},
   "source": [
    "# Chapter 1\n",
    "<a id='Chapter 1'></a>"
   ]
  },
  {
   "cell_type": "markdown",
   "metadata": {},
   "source": [
    "\n",
    "\n",
    "Import necessary Packages"
   ]
  },
  {
   "cell_type": "code",
   "execution_count": 83,
   "metadata": {},
   "outputs": [],
   "source": [
    "import pandas as pd\n",
    "import numpy as np\n",
    "import matplotlib.pyplot as plt\n",
    "import re"
   ]
  },
  {
   "cell_type": "markdown",
   "metadata": {},
   "source": [
    "Load original data from CSV and view it and start planning transoformations to get it in a useable format."
   ]
  },
  {
   "cell_type": "code",
   "execution_count": 84,
   "metadata": {
    "scrolled": false
   },
   "outputs": [
    {
     "data": {
      "text/html": [
       "<div>\n",
       "<style scoped>\n",
       "    .dataframe tbody tr th:only-of-type {\n",
       "        vertical-align: middle;\n",
       "    }\n",
       "\n",
       "    .dataframe tbody tr th {\n",
       "        vertical-align: top;\n",
       "    }\n",
       "\n",
       "    .dataframe thead th {\n",
       "        text-align: right;\n",
       "    }\n",
       "</style>\n",
       "<table border=\"1\" class=\"dataframe\">\n",
       "  <thead>\n",
       "    <tr style=\"text-align: right;\">\n",
       "      <th></th>\n",
       "      <th>Unnamed: 0</th>\n",
       "      <th>Job Title</th>\n",
       "      <th>Salary Estimate</th>\n",
       "      <th>Job Description</th>\n",
       "      <th>Rating</th>\n",
       "      <th>Company Name</th>\n",
       "      <th>Location</th>\n",
       "      <th>Headquarters</th>\n",
       "      <th>Size</th>\n",
       "      <th>Founded</th>\n",
       "      <th>Type of ownership</th>\n",
       "      <th>Industry</th>\n",
       "      <th>Sector</th>\n",
       "      <th>Revenue</th>\n",
       "      <th>Competitors</th>\n",
       "      <th>Easy Apply</th>\n",
       "    </tr>\n",
       "  </thead>\n",
       "  <tbody>\n",
       "    <tr>\n",
       "      <th>0</th>\n",
       "      <td>0</td>\n",
       "      <td>Data Analyst, Center on Immigration and Justic...</td>\n",
       "      <td>$37K-$66K (Glassdoor est.)</td>\n",
       "      <td>Are you eager to roll up your sleeves and harn...</td>\n",
       "      <td>3.2</td>\n",
       "      <td>Vera Institute of Justice\\n3.2</td>\n",
       "      <td>New York, NY</td>\n",
       "      <td>New York, NY</td>\n",
       "      <td>201 to 500 employees</td>\n",
       "      <td>1961</td>\n",
       "      <td>Nonprofit Organization</td>\n",
       "      <td>Social Assistance</td>\n",
       "      <td>Non-Profit</td>\n",
       "      <td>$100 to $500 million (USD)</td>\n",
       "      <td>-1</td>\n",
       "      <td>True</td>\n",
       "    </tr>\n",
       "    <tr>\n",
       "      <th>1</th>\n",
       "      <td>1</td>\n",
       "      <td>Quality Data Analyst</td>\n",
       "      <td>$37K-$66K (Glassdoor est.)</td>\n",
       "      <td>Overview\\n\\nProvides analytical and technical ...</td>\n",
       "      <td>3.8</td>\n",
       "      <td>Visiting Nurse Service of New York\\n3.8</td>\n",
       "      <td>New York, NY</td>\n",
       "      <td>New York, NY</td>\n",
       "      <td>10000+ employees</td>\n",
       "      <td>1893</td>\n",
       "      <td>Nonprofit Organization</td>\n",
       "      <td>Health Care Services &amp; Hospitals</td>\n",
       "      <td>Health Care</td>\n",
       "      <td>$2 to $5 billion (USD)</td>\n",
       "      <td>-1</td>\n",
       "      <td>-1</td>\n",
       "    </tr>\n",
       "    <tr>\n",
       "      <th>2</th>\n",
       "      <td>2</td>\n",
       "      <td>Senior Data Analyst, Insights &amp; Analytics Team...</td>\n",
       "      <td>$37K-$66K (Glassdoor est.)</td>\n",
       "      <td>We’re looking for a Senior Data Analyst who ha...</td>\n",
       "      <td>3.4</td>\n",
       "      <td>Squarespace\\n3.4</td>\n",
       "      <td>New York, NY</td>\n",
       "      <td>New York, NY</td>\n",
       "      <td>1001 to 5000 employees</td>\n",
       "      <td>2003</td>\n",
       "      <td>Company - Private</td>\n",
       "      <td>Internet</td>\n",
       "      <td>Information Technology</td>\n",
       "      <td>Unknown / Non-Applicable</td>\n",
       "      <td>GoDaddy</td>\n",
       "      <td>-1</td>\n",
       "    </tr>\n",
       "    <tr>\n",
       "      <th>3</th>\n",
       "      <td>3</td>\n",
       "      <td>Data Analyst</td>\n",
       "      <td>$37K-$66K (Glassdoor est.)</td>\n",
       "      <td>Requisition NumberRR-0001939\\nRemote:Yes\\nWe c...</td>\n",
       "      <td>4.1</td>\n",
       "      <td>Celerity\\n4.1</td>\n",
       "      <td>New York, NY</td>\n",
       "      <td>McLean, VA</td>\n",
       "      <td>201 to 500 employees</td>\n",
       "      <td>2002</td>\n",
       "      <td>Subsidiary or Business Segment</td>\n",
       "      <td>IT Services</td>\n",
       "      <td>Information Technology</td>\n",
       "      <td>$50 to $100 million (USD)</td>\n",
       "      <td>-1</td>\n",
       "      <td>-1</td>\n",
       "    </tr>\n",
       "    <tr>\n",
       "      <th>4</th>\n",
       "      <td>4</td>\n",
       "      <td>Reporting Data Analyst</td>\n",
       "      <td>$37K-$66K (Glassdoor est.)</td>\n",
       "      <td>ABOUT FANDUEL GROUP\\n\\nFanDuel Group is a worl...</td>\n",
       "      <td>3.9</td>\n",
       "      <td>FanDuel\\n3.9</td>\n",
       "      <td>New York, NY</td>\n",
       "      <td>New York, NY</td>\n",
       "      <td>501 to 1000 employees</td>\n",
       "      <td>2009</td>\n",
       "      <td>Company - Private</td>\n",
       "      <td>Sports &amp; Recreation</td>\n",
       "      <td>Arts, Entertainment &amp; Recreation</td>\n",
       "      <td>$100 to $500 million (USD)</td>\n",
       "      <td>DraftKings</td>\n",
       "      <td>True</td>\n",
       "    </tr>\n",
       "    <tr>\n",
       "      <th>...</th>\n",
       "      <td>...</td>\n",
       "      <td>...</td>\n",
       "      <td>...</td>\n",
       "      <td>...</td>\n",
       "      <td>...</td>\n",
       "      <td>...</td>\n",
       "      <td>...</td>\n",
       "      <td>...</td>\n",
       "      <td>...</td>\n",
       "      <td>...</td>\n",
       "      <td>...</td>\n",
       "      <td>...</td>\n",
       "      <td>...</td>\n",
       "      <td>...</td>\n",
       "      <td>...</td>\n",
       "      <td>...</td>\n",
       "    </tr>\n",
       "    <tr>\n",
       "      <th>2248</th>\n",
       "      <td>2248</td>\n",
       "      <td>RQS - IHHA - 201900004460 -1q Data Security An...</td>\n",
       "      <td>$78K-$104K (Glassdoor est.)</td>\n",
       "      <td>Maintains systems to protect data from unautho...</td>\n",
       "      <td>2.5</td>\n",
       "      <td>Avacend, Inc.\\n2.5</td>\n",
       "      <td>Denver, CO</td>\n",
       "      <td>Alpharetta, GA</td>\n",
       "      <td>51 to 200 employees</td>\n",
       "      <td>-1</td>\n",
       "      <td>Company - Private</td>\n",
       "      <td>Staffing &amp; Outsourcing</td>\n",
       "      <td>Business Services</td>\n",
       "      <td>Unknown / Non-Applicable</td>\n",
       "      <td>-1</td>\n",
       "      <td>-1</td>\n",
       "    </tr>\n",
       "    <tr>\n",
       "      <th>2249</th>\n",
       "      <td>2249</td>\n",
       "      <td>Senior Data Analyst (Corporate Audit)</td>\n",
       "      <td>$78K-$104K (Glassdoor est.)</td>\n",
       "      <td>Position:\\nSenior Data Analyst (Corporate Audi...</td>\n",
       "      <td>2.9</td>\n",
       "      <td>Arrow Electronics\\n2.9</td>\n",
       "      <td>Centennial, CO</td>\n",
       "      <td>Centennial, CO</td>\n",
       "      <td>10000+ employees</td>\n",
       "      <td>1935</td>\n",
       "      <td>Company - Public</td>\n",
       "      <td>Wholesale</td>\n",
       "      <td>Business Services</td>\n",
       "      <td>$10+ billion (USD)</td>\n",
       "      <td>Avnet, Ingram Micro, Tech Data</td>\n",
       "      <td>-1</td>\n",
       "    </tr>\n",
       "    <tr>\n",
       "      <th>2250</th>\n",
       "      <td>2250</td>\n",
       "      <td>Technical Business Analyst (SQL, Data analytic...</td>\n",
       "      <td>$78K-$104K (Glassdoor est.)</td>\n",
       "      <td>Title: Technical Business Analyst (SQL, Data a...</td>\n",
       "      <td>-1.0</td>\n",
       "      <td>Spiceorb</td>\n",
       "      <td>Denver, CO</td>\n",
       "      <td>-1</td>\n",
       "      <td>-1</td>\n",
       "      <td>-1</td>\n",
       "      <td>-1</td>\n",
       "      <td>-1</td>\n",
       "      <td>-1</td>\n",
       "      <td>-1</td>\n",
       "      <td>-1</td>\n",
       "      <td>-1</td>\n",
       "    </tr>\n",
       "    <tr>\n",
       "      <th>2251</th>\n",
       "      <td>2251</td>\n",
       "      <td>Data Analyst 3, Customer Experience</td>\n",
       "      <td>$78K-$104K (Glassdoor est.)</td>\n",
       "      <td>Summary\\n\\nResponsible for working cross-funct...</td>\n",
       "      <td>3.1</td>\n",
       "      <td>Contingent Network Services\\n3.1</td>\n",
       "      <td>Centennial, CO</td>\n",
       "      <td>West Chester, OH</td>\n",
       "      <td>201 to 500 employees</td>\n",
       "      <td>1984</td>\n",
       "      <td>Company - Private</td>\n",
       "      <td>Enterprise Software &amp; Network Solutions</td>\n",
       "      <td>Information Technology</td>\n",
       "      <td>$25 to $50 million (USD)</td>\n",
       "      <td>-1</td>\n",
       "      <td>-1</td>\n",
       "    </tr>\n",
       "    <tr>\n",
       "      <th>2252</th>\n",
       "      <td>2252</td>\n",
       "      <td>Senior Quality Data Analyst</td>\n",
       "      <td>$78K-$104K (Glassdoor est.)</td>\n",
       "      <td>You.\\n\\nYou bring your body, mind, heart and s...</td>\n",
       "      <td>3.4</td>\n",
       "      <td>SCL Health\\n3.4</td>\n",
       "      <td>Broomfield, CO</td>\n",
       "      <td>Broomfield, CO</td>\n",
       "      <td>10000+ employees</td>\n",
       "      <td>1864</td>\n",
       "      <td>Nonprofit Organization</td>\n",
       "      <td>Health Care Services &amp; Hospitals</td>\n",
       "      <td>Health Care</td>\n",
       "      <td>$2 to $5 billion (USD)</td>\n",
       "      <td>Centura Health, HealthONE, Denver Health and H...</td>\n",
       "      <td>-1</td>\n",
       "    </tr>\n",
       "  </tbody>\n",
       "</table>\n",
       "<p>2253 rows × 16 columns</p>\n",
       "</div>"
      ],
      "text/plain": [
       "      Unnamed: 0                                          Job Title  \\\n",
       "0              0  Data Analyst, Center on Immigration and Justic...   \n",
       "1              1                               Quality Data Analyst   \n",
       "2              2  Senior Data Analyst, Insights & Analytics Team...   \n",
       "3              3                                       Data Analyst   \n",
       "4              4                             Reporting Data Analyst   \n",
       "...          ...                                                ...   \n",
       "2248        2248  RQS - IHHA - 201900004460 -1q Data Security An...   \n",
       "2249        2249              Senior Data Analyst (Corporate Audit)   \n",
       "2250        2250  Technical Business Analyst (SQL, Data analytic...   \n",
       "2251        2251                Data Analyst 3, Customer Experience   \n",
       "2252        2252                        Senior Quality Data Analyst   \n",
       "\n",
       "                  Salary Estimate  \\\n",
       "0      $37K-$66K (Glassdoor est.)   \n",
       "1      $37K-$66K (Glassdoor est.)   \n",
       "2      $37K-$66K (Glassdoor est.)   \n",
       "3      $37K-$66K (Glassdoor est.)   \n",
       "4      $37K-$66K (Glassdoor est.)   \n",
       "...                           ...   \n",
       "2248  $78K-$104K (Glassdoor est.)   \n",
       "2249  $78K-$104K (Glassdoor est.)   \n",
       "2250  $78K-$104K (Glassdoor est.)   \n",
       "2251  $78K-$104K (Glassdoor est.)   \n",
       "2252  $78K-$104K (Glassdoor est.)   \n",
       "\n",
       "                                        Job Description  Rating  \\\n",
       "0     Are you eager to roll up your sleeves and harn...     3.2   \n",
       "1     Overview\\n\\nProvides analytical and technical ...     3.8   \n",
       "2     We’re looking for a Senior Data Analyst who ha...     3.4   \n",
       "3     Requisition NumberRR-0001939\\nRemote:Yes\\nWe c...     4.1   \n",
       "4     ABOUT FANDUEL GROUP\\n\\nFanDuel Group is a worl...     3.9   \n",
       "...                                                 ...     ...   \n",
       "2248  Maintains systems to protect data from unautho...     2.5   \n",
       "2249  Position:\\nSenior Data Analyst (Corporate Audi...     2.9   \n",
       "2250  Title: Technical Business Analyst (SQL, Data a...    -1.0   \n",
       "2251  Summary\\n\\nResponsible for working cross-funct...     3.1   \n",
       "2252  You.\\n\\nYou bring your body, mind, heart and s...     3.4   \n",
       "\n",
       "                                 Company Name        Location  \\\n",
       "0              Vera Institute of Justice\\n3.2    New York, NY   \n",
       "1     Visiting Nurse Service of New York\\n3.8    New York, NY   \n",
       "2                            Squarespace\\n3.4    New York, NY   \n",
       "3                               Celerity\\n4.1    New York, NY   \n",
       "4                                FanDuel\\n3.9    New York, NY   \n",
       "...                                       ...             ...   \n",
       "2248                       Avacend, Inc.\\n2.5      Denver, CO   \n",
       "2249                   Arrow Electronics\\n2.9  Centennial, CO   \n",
       "2250                                 Spiceorb      Denver, CO   \n",
       "2251         Contingent Network Services\\n3.1  Centennial, CO   \n",
       "2252                          SCL Health\\n3.4  Broomfield, CO   \n",
       "\n",
       "          Headquarters                    Size  Founded  \\\n",
       "0         New York, NY    201 to 500 employees     1961   \n",
       "1         New York, NY        10000+ employees     1893   \n",
       "2         New York, NY  1001 to 5000 employees     2003   \n",
       "3           McLean, VA    201 to 500 employees     2002   \n",
       "4         New York, NY   501 to 1000 employees     2009   \n",
       "...                ...                     ...      ...   \n",
       "2248    Alpharetta, GA     51 to 200 employees       -1   \n",
       "2249    Centennial, CO        10000+ employees     1935   \n",
       "2250                -1                      -1       -1   \n",
       "2251  West Chester, OH    201 to 500 employees     1984   \n",
       "2252    Broomfield, CO        10000+ employees     1864   \n",
       "\n",
       "                   Type of ownership                                 Industry  \\\n",
       "0             Nonprofit Organization                        Social Assistance   \n",
       "1             Nonprofit Organization         Health Care Services & Hospitals   \n",
       "2                  Company - Private                                 Internet   \n",
       "3     Subsidiary or Business Segment                              IT Services   \n",
       "4                  Company - Private                      Sports & Recreation   \n",
       "...                              ...                                      ...   \n",
       "2248               Company - Private                   Staffing & Outsourcing   \n",
       "2249                Company - Public                                Wholesale   \n",
       "2250                              -1                                       -1   \n",
       "2251               Company - Private  Enterprise Software & Network Solutions   \n",
       "2252          Nonprofit Organization         Health Care Services & Hospitals   \n",
       "\n",
       "                                Sector                     Revenue  \\\n",
       "0                           Non-Profit  $100 to $500 million (USD)   \n",
       "1                          Health Care      $2 to $5 billion (USD)   \n",
       "2               Information Technology    Unknown / Non-Applicable   \n",
       "3               Information Technology   $50 to $100 million (USD)   \n",
       "4     Arts, Entertainment & Recreation  $100 to $500 million (USD)   \n",
       "...                                ...                         ...   \n",
       "2248                 Business Services    Unknown / Non-Applicable   \n",
       "2249                 Business Services          $10+ billion (USD)   \n",
       "2250                                -1                          -1   \n",
       "2251            Information Technology    $25 to $50 million (USD)   \n",
       "2252                       Health Care      $2 to $5 billion (USD)   \n",
       "\n",
       "                                            Competitors Easy Apply  \n",
       "0                                                    -1       True  \n",
       "1                                                    -1         -1  \n",
       "2                                               GoDaddy         -1  \n",
       "3                                                    -1         -1  \n",
       "4                                            DraftKings       True  \n",
       "...                                                 ...        ...  \n",
       "2248                                                 -1         -1  \n",
       "2249                     Avnet, Ingram Micro, Tech Data         -1  \n",
       "2250                                                 -1         -1  \n",
       "2251                                                 -1         -1  \n",
       "2252  Centura Health, HealthONE, Denver Health and H...         -1  \n",
       "\n",
       "[2253 rows x 16 columns]"
      ]
     },
     "execution_count": 84,
     "metadata": {},
     "output_type": "execute_result"
    }
   ],
   "source": [
    "pd.read_csv('C:/Users/Asus/Desktop/python/Data/jobs.csv')"
   ]
  },
  {
   "cell_type": "markdown",
   "metadata": {},
   "source": [
    "Assign loaded dataframe."
   ]
  },
  {
   "cell_type": "code",
   "execution_count": 85,
   "metadata": {},
   "outputs": [],
   "source": [
    "df = pd.read_csv('C:/Users/Asus/Desktop/python/Data/jobs.csv')"
   ]
  },
  {
   "cell_type": "markdown",
   "metadata": {},
   "source": [
    "Drop unnecessary columns with the keyword inplace so we dont have to assign the new dataframes created."
   ]
  },
  {
   "cell_type": "code",
   "execution_count": 86,
   "metadata": {},
   "outputs": [],
   "source": [
    "df.drop('Easy Apply', axis=1, inplace=True)\n",
    "df.drop('Competitors', axis=1, inplace=True)\n",
    "df.drop('Headquarters', axis=1, inplace=True)\n",
    "df.drop('Unnamed: 0', axis=1, inplace=True)"
   ]
  },
  {
   "cell_type": "markdown",
   "metadata": {},
   "source": [
    "Convert the 'k' in 'salary estimate' column to thousands and get rid of unncessary characters, then convert range to the median value (remember it is in USD), then convert USD to £'s (today's rate : $1 = £0.76), try and except to capture potential nuls or anything else that isnt what we expect and delete the offending row (Be sure to check the offending rows beforehand! In this case it was null values denoted with a '-1' as shown below in the output)."
   ]
  },
  {
   "cell_type": "code",
   "execution_count": 87,
   "metadata": {
    "scrolled": true
   },
   "outputs": [
    {
     "name": "stderr",
     "output_type": "stream",
     "text": [
      "C:\\ProgramData\\Anaconda\\lib\\site-packages\\ipykernel_launcher.py:11: SettingWithCopyWarning: \n",
      "A value is trying to be set on a copy of a slice from a DataFrame\n",
      "\n",
      "See the caveats in the documentation: https://pandas.pydata.org/pandas-docs/stable/user_guide/indexing.html#returning-a-view-versus-a-copy\n",
      "  # This is added back by InteractiveShellApp.init_path()\n"
     ]
    },
    {
     "name": "stdout",
     "output_type": "stream",
     "text": [
      "row 2149 cannot be parsed as an int, it's value is -1; dropping row\n"
     ]
    }
   ],
   "source": [
    "for j, i in enumerate(df['Salary Estimate']):\n",
    "        i = i.replace('K', '000')\n",
    "        i = i.replace('(Glassdoor est.)', '')\n",
    "        i = i.replace('$', '')\n",
    "        i = i.strip('')\n",
    "        indexofdash = i.find('-')\n",
    "        num1 = i[:indexofdash]\n",
    "        num2 = i[indexofdash+1:]\n",
    "        try:\n",
    "            new = int(((int(num1) + int(num2))/2)*0.76)\n",
    "            df['Salary Estimate'][j] = new\n",
    "        except ValueError:\n",
    "            print(f\"row {j} cannot be parsed as an int, it's value is {i}; dropping row\")\n",
    "            df.drop(j)"
   ]
  },
  {
   "cell_type": "markdown",
   "metadata": {},
   "source": [
    "Convert column to be of 'integer' type rather than 'object', then use keyword downcast to convert to lowest memory-form of the integer datatype to save memory (within reason for the values in the column, which pandas decides)."
   ]
  },
  {
   "cell_type": "code",
   "execution_count": 88,
   "metadata": {},
   "outputs": [],
   "source": [
    "df['Salary Estimate'] = pd.to_numeric(df['Salary Estimate'], downcast='integer')"
   ]
  },
  {
   "cell_type": "markdown",
   "metadata": {},
   "source": [
    "Make new column for age of company (better for machine learning than year founded if we are going that route), does this for all values that have 4 characters else it marks it with a '?' so I can do some further digging into what the values are apart from years"
   ]
  },
  {
   "cell_type": "code",
   "execution_count": 89,
   "metadata": {},
   "outputs": [],
   "source": [
    "df['Company Age'] = [2020 - i if len(str(i)) == 4 else '?' for i in df['Founded']]"
   ]
  },
  {
   "cell_type": "markdown",
   "metadata": {},
   "source": [
    "Check the values that were not 4 characters in df['Founded']"
   ]
  },
  {
   "cell_type": "code",
   "execution_count": 90,
   "metadata": {},
   "outputs": [
    {
     "name": "stdout",
     "output_type": "stream",
     "text": [
      "{-1: 660}\n"
     ]
    }
   ],
   "source": [
    "values = {}\n",
    "for j, i in enumerate(df['Company Age']):\n",
    "    if i == '?':\n",
    "        if df['Founded'][j] not in values.keys():\n",
    "            values[df['Founded'][j]] = 1\n",
    "        else:\n",
    "            values[df['Founded'][j]] += 1\n",
    "print(values)"
   ]
  },
  {
   "cell_type": "markdown",
   "metadata": {},
   "source": [
    "All the values that were not what we expected are -1's which denote nulls, since 660 rows is too much to drop we will set the nulls as the mean of the companies age's, after we are going to drop the 'Founded' column as we no longer need it "
   ]
  },
  {
   "cell_type": "code",
   "execution_count": 91,
   "metadata": {},
   "outputs": [
    {
     "name": "stderr",
     "output_type": "stream",
     "text": [
      "C:\\ProgramData\\Anaconda\\lib\\site-packages\\ipykernel_launcher.py:6: SettingWithCopyWarning: \n",
      "A value is trying to be set on a copy of a slice from a DataFrame\n",
      "\n",
      "See the caveats in the documentation: https://pandas.pydata.org/pandas-docs/stable/user_guide/indexing.html#returning-a-view-versus-a-copy\n",
      "  \n"
     ]
    }
   ],
   "source": [
    "values = [int(i) for i in df['Company Age'] if i != '?']\n",
    "mean = int((sum(values))/len(values))\n",
    "\n",
    "for j, i in enumerate(df['Company Age']):\n",
    "    if i == '?':\n",
    "        df['Company Age'][j] = mean\n",
    "        \n",
    "df.drop('Founded', axis=1, inplace=True)\n"
   ]
  },
  {
   "cell_type": "markdown",
   "metadata": {},
   "source": [
    "Transform into a downcast integer type to save memory once again"
   ]
  },
  {
   "cell_type": "code",
   "execution_count": 92,
   "metadata": {},
   "outputs": [],
   "source": [
    "df['Company Age'] = pd.to_numeric(df['Company Age'], downcast='integer')"
   ]
  },
  {
   "cell_type": "markdown",
   "metadata": {},
   "source": [
    "-------------------------------------------------------------------------------------------------------------------------------"
   ]
  },
  {
   "cell_type": "markdown",
   "metadata": {},
   "source": [
    "# Chapter 2 \n",
    "<a id='Chapter 2'></a>"
   ]
  },
  {
   "cell_type": "markdown",
   "metadata": {},
   "source": [
    "Get the words we want to filter for in job title by first getting all the individual words in the 'job title' column and then filter and keep only the words with 15 occurences, then do some manaual cleaning.\n",
    "The variable 'counts' contains all the individual words with the corresponding frequency associated with each word in a python  dictionary fashion whilst the 'wordsGreaterThan15' variable contains the words with greater than 15 occurences (minus/plus a few that were added and removed manually) in a python list fashion."
   ]
  },
  {
   "cell_type": "code",
   "execution_count": 93,
   "metadata": {},
   "outputs": [
    {
     "name": "stderr",
     "output_type": "stream",
     "text": [
      "C:\\ProgramData\\Anaconda\\lib\\site-packages\\ipykernel_launcher.py:11: SettingWithCopyWarning: \n",
      "A value is trying to be set on a copy of a slice from a DataFrame\n",
      "\n",
      "See the caveats in the documentation: https://pandas.pydata.org/pandas-docs/stable/user_guide/indexing.html#returning-a-view-versus-a-copy\n",
      "  # This is added back by InteractiveShellApp.init_path()\n"
     ]
    },
    {
     "name": "stdout",
     "output_type": "stream",
     "text": [
      "wordsGreaterThan15 = ['analyst', 'analystbusiness', 'analystdata', 'analystfinancial', 'analysthealthcare', 'analystjunior', 'analystlead', 'analystsenior', 'analystsr', 'analytics', 'analyticsdata', 'aws', 'azure', 'bi', 'big', 'business', 'cloud', 'data', 'eng', 'engineering', 'entry', 'excel', 'financial', 'fluency', 'fluent', 'gcp', 'governance', 'graduate', 'healthcare', 'intelligence', 'intern', 'jr', 'junior', 'lead', 'management', 'manager', 'master', 'operations', 'power', 'python', 'quality', 'remote', 'reporting', 'sap', 'sas', 'science', 'security', 'senior', 'sql', 'sr', 'systems', 'tableau', 'warehouse']\n",
      "skillwords = ['AWS', 'AZURE', 'Aws', 'Azure', 'BIG', 'Big', 'CLOUD', 'Cloud', 'EXCEL', 'Excel', 'GCP', 'Gcp', 'POWER', 'PYTHON', 'Power', 'Python', 'R', 'R', 'SAP', 'SAS', 'SQL', 'Sap', 'Sas', 'Sql', 'TABLEAU', 'Tableau', 'aws', 'azure', 'big', 'cloud', 'excel', 'gcp', 'power', 'python', 'r', 'sap', 'sas', 'sql', 'tableau']\n"
     ]
    }
   ],
   "source": [
    "unwantedchar = '[,]./!{}()>?<|\\&^*£$%^-_+='\n",
    "counts = {}\n",
    "text = ''\n",
    "wordsGreaterThan15 = []\n",
    "\n",
    "\n",
    "\n",
    "for j, i in enumerate(df['Job Title']):\n",
    "    i = i.translate({ord(h): None for h in unwantedchar}) #remove unwanted chars in each value of job title\n",
    "    i = i.lower() # make each value of job title lowercase\n",
    "    df['Job Title'][j] = i # assign cleaned up value of Job Title back to relevant row \n",
    "    for j in i:\n",
    "        if j != '' and j != ' ':\n",
    "            text += j\n",
    "        else:\n",
    "            if text not in counts.keys():\n",
    "                counts[text] = 1\n",
    "                text = ''\n",
    "            else:\n",
    "                counts[text] += 1\n",
    "                text = ''\n",
    "sorted_counts = sorted(counts.items(), key=lambda x: x[1], reverse=True) #sort 'counts' with the key with largest value showing first and so forth\n",
    "\n",
    "# iterate over the keys in 'counts' and check their corresponding value; if greater than 15 append to 'wordsGreaterThan15'\n",
    "\n",
    "for i in counts.keys():\n",
    "    if counts[i] >= 15:\n",
    "        wordsGreaterThan15.append(i)\n",
    "\n",
    "# delete words which are not useful so we do not to filter for them\n",
    "        \n",
    "del wordsGreaterThan15[2]\n",
    "del wordsGreaterThan15[3]\n",
    "del wordsGreaterThan15[-1]\n",
    "del wordsGreaterThan15[8]\n",
    "del wordsGreaterThan15[10]\n",
    "\n",
    "# add in a few relevant words\n",
    "\n",
    "wordsGreaterThan15.append('sr')\n",
    "wordsGreaterThan15.append('jr')\n",
    "wordsGreaterThan15.append('junior')\n",
    "wordsGreaterThan15.append('entry')\n",
    "wordsGreaterThan15.append('eng')\n",
    "wordsGreaterThan15.append('engineering')\n",
    "wordsGreaterThan15.append('remote')\n",
    "wordsGreaterThan15.append('graduate')\n",
    "wordsGreaterThan15.append('intern')\n",
    "wordsGreaterThan15.append('fluency')\n",
    "wordsGreaterThan15.append('fluent')\n",
    "\n",
    "# add in skill words to filter for, this will be useful later \n",
    "\n",
    "skillwords = []\n",
    "_ = [] # temporary, needed to avoid recursion, we will delete it once done to save memory\n",
    "\n",
    "wordsGreaterThan15.append('python')\n",
    "skillwords.append('python')\n",
    "#wordsGreaterThan15.append('r')\n",
    "skillwords.append('r')\n",
    "wordsGreaterThan15.append('sas')\n",
    "skillwords.append('sas')\n",
    "wordsGreaterThan15.append('sap')\n",
    "skillwords.append('sap')\n",
    "wordsGreaterThan15.append('excel')\n",
    "skillwords.append('excel')\n",
    "wordsGreaterThan15.append('sql')\n",
    "skillwords.append('sql')\n",
    "wordsGreaterThan15.append('tableau')\n",
    "skillwords.append('tableau')\n",
    "wordsGreaterThan15.append('power')\n",
    "skillwords.append('power')\n",
    "wordsGreaterThan15.append('aws')\n",
    "skillwords.append('aws')\n",
    "wordsGreaterThan15.append('azure')\n",
    "skillwords.append('azure')\n",
    "wordsGreaterThan15.append('gcp')\n",
    "skillwords.append('gcp')\n",
    "wordsGreaterThan15.append('cloud')\n",
    "skillwords.append('cloud')\n",
    "wordsGreaterThan15.append('big')\n",
    "skillwords.append('big')\n",
    "    \n",
    "wordsGreaterThan15 = sorted(wordsGreaterThan15)\n",
    "print(f'wordsGreaterThan15 = {wordsGreaterThan15}')\n",
    "\n",
    "for i in skillwords:\n",
    "    _.append(i[0].upper() + i[1:])\n",
    "    _.append(i.upper())\n",
    "    \n",
    "for i in _:\n",
    "    skillwords.append(i)\n",
    "    \n",
    "del _\n",
    "skillwords = sorted(skillwords)\n",
    "print(f'skillwords = {skillwords}')"
   ]
  },
  {
   "cell_type": "markdown",
   "metadata": {},
   "source": [
    "Filter through the individual job titles using the words in the list of viable words we have made (variable wordsGreaterThan15). Thus the new job titles should only contain one of those words else they will be blank."
   ]
  },
  {
   "cell_type": "code",
   "execution_count": 95,
   "metadata": {
    "scrolled": true
   },
   "outputs": [
    {
     "name": "stderr",
     "output_type": "stream",
     "text": [
      "C:\\ProgramData\\Anaconda\\lib\\site-packages\\ipykernel_launcher.py:21: SettingWithCopyWarning: \n",
      "A value is trying to be set on a copy of a slice from a DataFrame\n",
      "\n",
      "See the caveats in the documentation: https://pandas.pydata.org/pandas-docs/stable/user_guide/indexing.html#returning-a-view-versus-a-copy\n",
      "C:\\ProgramData\\Anaconda\\lib\\site-packages\\ipykernel_launcher.py:23: SettingWithCopyWarning: \n",
      "A value is trying to be set on a copy of a slice from a DataFrame\n",
      "\n",
      "See the caveats in the documentation: https://pandas.pydata.org/pandas-docs/stable/user_guide/indexing.html#returning-a-view-versus-a-copy\n"
     ]
    },
    {
     "name": "stdout",
     "output_type": "stream",
     "text": [
      "we've had 0 mentions of R!\n",
      "there are 190 blanks now\n"
     ]
    }
   ],
   "source": [
    "wordsOfJobTitle = []\n",
    "rcount = 0\n",
    "blankcount = 0\n",
    "\n",
    "for j, i in enumerate(df['Job Title']):\n",
    "    wordsOfJobTitle.append([])\n",
    "    #print(df['Job Title'][j])\n",
    "    for letter in i:\n",
    "        if letter != ' ':\n",
    "            individualword += letter\n",
    "        else:\n",
    "            for _ in wordsGreaterThan15:\n",
    "                if individualword == _:\n",
    "                    wordsOfJobTitle[j].append(individualword)\n",
    "                    individualword = ''\n",
    "                elif individualword == 'r':\n",
    "                    wordsOfJobTitle[j].append(individualword)\n",
    "                    rcount += 1\n",
    "                    individualword = ''\n",
    "            individualword = ''\n",
    "    df['Job Title'][j] = ''\n",
    "    for index in range(len(wordsOfJobTitle[j])):\n",
    "        df['Job Title'][j] += f'{wordsOfJobTitle[j][index]} '\n",
    "    if df['Job Title'][j] == '' or df['Job Title'][j] == ' ':\n",
    "        blankcount += 1\n",
    "        \n",
    "print(f\"we've had {rcount} mentions of R!\")\n",
    "print(f\"There are {blankcount} blanks now\")\n",
    "      \n",
    "    "
   ]
  },
  {
   "cell_type": "markdown",
   "metadata": {},
   "source": [
    "Remove all the rows with a blank job title"
   ]
  },
  {
   "cell_type": "code",
   "execution_count": 99,
   "metadata": {},
   "outputs": [],
   "source": [
    "for j, i in enumerate(df['Job Title']):\n",
    "    if i == '' or i == ' ':\n",
    "        df.drop([j], inplace=True)"
   ]
  },
  {
   "cell_type": "markdown",
   "metadata": {},
   "source": [
    "Since we are going through words in a column quite often it's worthwhile to create a function to call instead of writing the process over and over again (probably should have done this earlier)"
   ]
  },
  {
   "cell_type": "code",
   "execution_count": 103,
   "metadata": {},
   "outputs": [],
   "source": [
    "def go_through_words_in_column(column):\n",
    "    \n",
    "    listOfWords = []\n",
    "    temp = ''\n",
    "    for j, cell in enumerate(column):\n",
    "        listOfWords.append([])\n",
    "        for letter in cell:\n",
    "            if letter != '' or letter != ' ':\n",
    "                temp += letter\n",
    "            else:\n",
    "                listOfWords[j].append(temp)\n",
    "                temp = ''\n",
    "                \n",
    "                \n",
    "    return listOfWords"
   ]
  },
  {
   "cell_type": "code",
   "execution_count": null,
   "metadata": {},
   "outputs": [],
   "source": []
  }
 ],
 "metadata": {
  "kernelspec": {
   "display_name": "Python 3",
   "language": "python",
   "name": "python3"
  },
  "language_info": {
   "codemirror_mode": {
    "name": "ipython",
    "version": 3
   },
   "file_extension": ".py",
   "mimetype": "text/x-python",
   "name": "python",
   "nbconvert_exporter": "python",
   "pygments_lexer": "ipython3",
   "version": "3.7.7"
  }
 },
 "nbformat": 4,
 "nbformat_minor": 4
}
